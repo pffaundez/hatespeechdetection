{
 "cells": [
  {
   "cell_type": "markdown",
   "metadata": {},
   "source": [
    "1. Framework"
   ]
  },
  {
   "cell_type": "code",
   "execution_count": 1,
   "metadata": {},
   "outputs": [],
   "source": [
    "import torch\n",
    "from torch.utils.data import DataLoader, TensorDataset\n",
    "from transformers import DistilBertTokenizer, DistilBertForSequenceClassification, AdamW, DistilBertConfig\n",
    "import sklearn\n",
    "from sklearn.model_selection import train_test_split\n",
    "from sklearn.preprocessing import LabelEncoder\n",
    "import pandas as pd\n",
    "import numpy as np\n",
    "from textblob import TextBlob\n",
    "import re\n",
    "import emoji\n",
    "import matplotlib.pyplot as plt\n",
    "from datasets import load_metric\n",
    "from sklearn.model_selection import GridSearchCV\n",
    "from sklearn.metrics import make_scorer, accuracy_score, precision_score, f1_score, recall_score\n",
    "from sklearn.pipeline import Pipeline\n",
    "from tqdm import tqdm\n",
    "from sklearn.base import BaseEstimator, TransformerMixin\n",
    "from sklearn.model_selection import ParameterGrid\n",
    "from torch.nn.utils.rnn import pad_sequence"
   ]
  },
  {
   "cell_type": "markdown",
   "metadata": {},
   "source": [
    "2. Data Load"
   ]
  },
  {
   "cell_type": "code",
   "execution_count": 2,
   "metadata": {},
   "outputs": [],
   "source": [
    "#Dataset Definition\n",
    "twits_25k_path = '25k_dataset.csv'\n",
    "twits_32k_path = 'hatespeech_train.csv'\n",
    "#twits_150_path = ''\n",
    "twits_25k_preprocessed_path = 'twits_25k_preprocessed.csv'\n",
    "\n",
    "twits_25k = pd.read_csv(twits_25k_path)\n",
    "twits_32k = pd.read_csv(twits_32k_path)\n",
    "#twits_120 = pd.read_csv(twits_150_path)\n",
    "twits_25k_preprocessed = pd.read_csv(twits_25k_preprocessed_path)"
   ]
  },
  {
   "cell_type": "code",
   "execution_count": 3,
   "metadata": {},
   "outputs": [],
   "source": [
    "twits_25k = twits_25k[[\"id\",\"class\",\"tweet\"]]\n",
    "twits_25k = twits_25k.rename(columns={\"class\":\"label\"})\n",
    "\n",
    "twits_25k_preprocessed = twits_25k_preprocessed[[\"id\",\"label\",\"tweet\"]]\n",
    "# twits_25k_preprocessed = twits_25k_preprocessed.rename(columns={\"class\":\"label\"})"
   ]
  },
  {
   "cell_type": "code",
   "execution_count": 4,
   "metadata": {},
   "outputs": [
    {
     "data": {
      "text/html": [
       "<div>\n",
       "<style scoped>\n",
       "    .dataframe tbody tr th:only-of-type {\n",
       "        vertical-align: middle;\n",
       "    }\n",
       "\n",
       "    .dataframe tbody tr th {\n",
       "        vertical-align: top;\n",
       "    }\n",
       "\n",
       "    .dataframe thead th {\n",
       "        text-align: right;\n",
       "    }\n",
       "</style>\n",
       "<table border=\"1\" class=\"dataframe\">\n",
       "  <thead>\n",
       "    <tr style=\"text-align: right;\">\n",
       "      <th></th>\n",
       "      <th>id</th>\n",
       "      <th>label</th>\n",
       "      <th>tweet</th>\n",
       "    </tr>\n",
       "  </thead>\n",
       "  <tbody>\n",
       "    <tr>\n",
       "      <th>0</th>\n",
       "      <td>0</td>\n",
       "      <td>2</td>\n",
       "      <td>!!! it  as a woman you shouldn't complain abou...</td>\n",
       "    </tr>\n",
       "    <tr>\n",
       "      <th>1</th>\n",
       "      <td>1</td>\n",
       "      <td>1</td>\n",
       "      <td>!!!!! it  boy days cold...tea down bad for cof...</td>\n",
       "    </tr>\n",
       "    <tr>\n",
       "      <th>2</th>\n",
       "      <td>2</td>\n",
       "      <td>1</td>\n",
       "      <td>!!!!!!! it  dawn!!!! it  you ever fuck a bitch...</td>\n",
       "    </tr>\n",
       "    <tr>\n",
       "      <th>3</th>\n",
       "      <td>3</td>\n",
       "      <td>1</td>\n",
       "      <td>!!!!!!!!! it   she look like a tyranny</td>\n",
       "    </tr>\n",
       "    <tr>\n",
       "      <th>4</th>\n",
       "      <td>4</td>\n",
       "      <td>1</td>\n",
       "      <td>!!!!!!!!!!!!! it  the shit you hear about me m...</td>\n",
       "    </tr>\n",
       "  </tbody>\n",
       "</table>\n",
       "</div>"
      ],
      "text/plain": [
       "   id  label                                              tweet\n",
       "0   0      2  !!! it  as a woman you shouldn't complain abou...\n",
       "1   1      1  !!!!! it  boy days cold...tea down bad for cof...\n",
       "2   2      1  !!!!!!! it  dawn!!!! it  you ever fuck a bitch...\n",
       "3   3      1             !!!!!!!!! it   she look like a tyranny\n",
       "4   4      1  !!!!!!!!!!!!! it  the shit you hear about me m..."
      ]
     },
     "execution_count": 4,
     "metadata": {},
     "output_type": "execute_result"
    }
   ],
   "source": [
    "twits_25k_preprocessed.head()"
   ]
  },
  {
   "cell_type": "code",
   "execution_count": 5,
   "metadata": {},
   "outputs": [],
   "source": [
    "\n",
    "original_dataset = twits_25k_preprocessed\n",
    "\n",
    "# Especificar el tamaño del subconjunto que deseas\n",
    "subset_size = 2000  # ajusta este valor según tus necesidades\n",
    "\n",
    "# Obtener un subconjunto aleatorio\n",
    "random_subset_25k = original_dataset.sample(n=subset_size, random_state=42)\n",
    "\n",
    "# Ahora, random_subset contiene un subconjunto aleatorio de tu conjunto de datos\n"
   ]
  },
  {
   "cell_type": "code",
   "execution_count": 6,
   "metadata": {},
   "outputs": [
    {
     "data": {
      "text/plain": [
       "(2000, 3)"
      ]
     },
     "execution_count": 6,
     "metadata": {},
     "output_type": "execute_result"
    }
   ],
   "source": [
    "random_subset_25k.shape"
   ]
  },
  {
   "cell_type": "code",
   "execution_count": 17,
   "metadata": {},
   "outputs": [],
   "source": [
    "def preprocess_dataset(dataset):\n",
    "    # Change text to lowercase\n",
    "    dataset['tweet'] = dataset['tweet'].str.lower()\n",
    "    # Eliminate URLs\n",
    "    dataset['tweet'] = dataset['tweet'].replace(r'http\\S+', '', regex=True).replace(r'www\\S+', '', regex=True)\n",
    "    # Use TextBlob for spelling correction\n",
    "    dataset['tweet'] = dataset['tweet'].apply(lambda x: str(TextBlob(x).correct()))\n",
    "    # Convert emojis to text and keep sentiment\n",
    "    dataset['tweet'] = dataset['tweet'].apply(lambda x: emoji.demojize(x))\n",
    "    # Keep hashtags\n",
    "    dataset['tweet'] = dataset['tweet'].apply(lambda x: re.sub(r'#', '', x))\n",
    "    # Eliminate @mentions\n",
    "    dataset['tweet'] = dataset['tweet'].replace(r'@\\S+', '', regex=True)\n",
    "    return dataset"
   ]
  },
  {
   "cell_type": "code",
   "execution_count": 18,
   "metadata": {},
   "outputs": [
    {
     "name": "stdout",
     "output_type": "stream",
     "text": [
      "   id  label                                              tweet\n",
      "0   0      2  !!! it  as a woman you shouldn't complain abou...\n",
      "1   1      1  !!!!! it  boy days cold...tea down bad for cof...\n",
      "2   2      1  !!!!!!! it  dawn!!!! it  you ever fuck a bitch...\n",
      "3   3      1             !!!!!!!!! it   she look like a tyranny\n",
      "4   4      1  !!!!!!!!!!!!! it  the shit you hear about me m...\n"
     ]
    }
   ],
   "source": [
    "# Uso de la función con tu ruta de archivo\n",
    "twits_25k_preprocessed = preprocess_dataset(twits_25k)\n",
    "\n",
    "# Muestra las primeras filas del DataFrame resultante\n",
    "print(twits_25k_preprocessed.head())"
   ]
  },
  {
   "cell_type": "code",
   "execution_count": 19,
   "metadata": {},
   "outputs": [],
   "source": [
    "twits_25k_preprocessed.to_csv(\"twits_25k_preprocessed.csv\")"
   ]
  },
  {
   "cell_type": "markdown",
   "metadata": {},
   "source": [
    "3. Prediction Number 1: DistilBERT"
   ]
  },
  {
   "cell_type": "markdown",
   "metadata": {},
   "source": []
  },
  {
   "cell_type": "code",
   "execution_count": 8,
   "metadata": {},
   "outputs": [
    {
     "name": "stdout",
     "output_type": "stream",
     "text": [
      "Defaulting to user installation because normal site-packages is not writeable\n",
      "Collecting sentence-transformers\n",
      "  Downloading sentence-transformers-2.2.2.tar.gz (85 kB)\n",
      "     ---------------------------------------- 86.0/86.0 kB 4.7 MB/s eta 0:00:00\n",
      "  Preparing metadata (setup.py): started\n",
      "  Preparing metadata (setup.py): finished with status 'done'\n",
      "Requirement already satisfied: transformers<5.0.0,>=4.6.0 in c:\\users\\pablofabianfaundezga\\appdata\\roaming\\python\\python311\\site-packages (from sentence-transformers) (4.35.2)\n",
      "Requirement already satisfied: tqdm in c:\\users\\pablofabianfaundezga\\appdata\\roaming\\python\\python311\\site-packages (from sentence-transformers) (4.66.1)\n",
      "Requirement already satisfied: torch>=1.6.0 in c:\\users\\pablofabianfaundezga\\appdata\\roaming\\python\\python311\\site-packages (from sentence-transformers) (2.1.1)\n",
      "Requirement already satisfied: torchvision in c:\\users\\pablofabianfaundezga\\appdata\\roaming\\python\\python311\\site-packages (from sentence-transformers) (0.16.1)\n",
      "Requirement already satisfied: numpy in c:\\users\\pablofabianfaundezga\\appdata\\roaming\\python\\python311\\site-packages (from sentence-transformers) (1.23.5)\n",
      "Requirement already satisfied: scikit-learn in c:\\users\\pablofabianfaundezga\\appdata\\roaming\\python\\python311\\site-packages (from sentence-transformers) (1.2.2)\n",
      "Requirement already satisfied: scipy in c:\\users\\pablofabianfaundezga\\appdata\\roaming\\python\\python311\\site-packages (from sentence-transformers) (1.10.1)\n",
      "Requirement already satisfied: nltk in c:\\users\\pablofabianfaundezga\\appdata\\roaming\\python\\python311\\site-packages (from sentence-transformers) (3.8.1)\n",
      "Collecting sentencepiece (from sentence-transformers)\n",
      "  Downloading sentencepiece-0.1.99-cp311-cp311-win_amd64.whl (977 kB)\n",
      "     -------------------------------------- 977.5/977.5 kB 6.9 MB/s eta 0:00:00\n",
      "Requirement already satisfied: huggingface-hub>=0.4.0 in c:\\users\\pablofabianfaundezga\\appdata\\roaming\\python\\python311\\site-packages (from sentence-transformers) (0.19.4)\n",
      "Requirement already satisfied: filelock in c:\\users\\pablofabianfaundezga\\appdata\\roaming\\python\\python311\\site-packages (from huggingface-hub>=0.4.0->sentence-transformers) (3.13.1)\n",
      "Requirement already satisfied: fsspec>=2023.5.0 in c:\\users\\pablofabianfaundezga\\appdata\\roaming\\python\\python311\\site-packages (from huggingface-hub>=0.4.0->sentence-transformers) (2023.10.0)\n",
      "Requirement already satisfied: requests in c:\\users\\pablofabianfaundezga\\appdata\\roaming\\python\\python311\\site-packages (from huggingface-hub>=0.4.0->sentence-transformers) (2.31.0)\n",
      "Requirement already satisfied: pyyaml>=5.1 in c:\\users\\pablofabianfaundezga\\appdata\\roaming\\python\\python311\\site-packages (from huggingface-hub>=0.4.0->sentence-transformers) (6.0.1)\n",
      "Requirement already satisfied: typing-extensions>=3.7.4.3 in c:\\users\\pablofabianfaundezga\\appdata\\roaming\\python\\python311\\site-packages (from huggingface-hub>=0.4.0->sentence-transformers) (4.8.0)\n",
      "Requirement already satisfied: packaging>=20.9 in c:\\users\\pablofabianfaundezga\\appdata\\roaming\\python\\python311\\site-packages (from huggingface-hub>=0.4.0->sentence-transformers) (21.3)\n",
      "Requirement already satisfied: sympy in c:\\users\\pablofabianfaundezga\\appdata\\roaming\\python\\python311\\site-packages (from torch>=1.6.0->sentence-transformers) (1.12)\n",
      "Requirement already satisfied: networkx in c:\\users\\pablofabianfaundezga\\appdata\\roaming\\python\\python311\\site-packages (from torch>=1.6.0->sentence-transformers) (3.2.1)\n",
      "Requirement already satisfied: jinja2 in c:\\users\\pablofabianfaundezga\\appdata\\roaming\\python\\python311\\site-packages (from torch>=1.6.0->sentence-transformers) (3.1.2)\n",
      "Requirement already satisfied: colorama in c:\\users\\pablofabianfaundezga\\appdata\\roaming\\python\\python311\\site-packages (from tqdm->sentence-transformers) (0.4.6)\n",
      "Requirement already satisfied: regex!=2019.12.17 in c:\\users\\pablofabianfaundezga\\appdata\\roaming\\python\\python311\\site-packages (from transformers<5.0.0,>=4.6.0->sentence-transformers) (2023.10.3)\n",
      "Requirement already satisfied: tokenizers<0.19,>=0.14 in c:\\users\\pablofabianfaundezga\\appdata\\roaming\\python\\python311\\site-packages (from transformers<5.0.0,>=4.6.0->sentence-transformers) (0.15.0)\n",
      "Requirement already satisfied: safetensors>=0.3.1 in c:\\users\\pablofabianfaundezga\\appdata\\roaming\\python\\python311\\site-packages (from transformers<5.0.0,>=4.6.0->sentence-transformers) (0.4.1)\n",
      "Requirement already satisfied: click in c:\\users\\pablofabianfaundezga\\appdata\\roaming\\python\\python311\\site-packages (from nltk->sentence-transformers) (8.1.7)\n",
      "Requirement already satisfied: joblib in c:\\users\\pablofabianfaundezga\\appdata\\roaming\\python\\python311\\site-packages (from nltk->sentence-transformers) (1.2.0)\n",
      "Requirement already satisfied: threadpoolctl>=2.0.0 in c:\\users\\pablofabianfaundezga\\appdata\\roaming\\python\\python311\\site-packages (from scikit-learn->sentence-transformers) (3.1.0)\n",
      "Requirement already satisfied: pillow!=8.3.*,>=5.3.0 in c:\\users\\pablofabianfaundezga\\appdata\\roaming\\python\\python311\\site-packages (from torchvision->sentence-transformers) (9.3.0)\n",
      "Requirement already satisfied: pyparsing!=3.0.5,>=2.0.2 in c:\\users\\pablofabianfaundezga\\appdata\\roaming\\python\\python311\\site-packages (from packaging>=20.9->huggingface-hub>=0.4.0->sentence-transformers) (3.0.9)\n",
      "Requirement already satisfied: MarkupSafe>=2.0 in c:\\users\\pablofabianfaundezga\\appdata\\roaming\\python\\python311\\site-packages (from jinja2->torch>=1.6.0->sentence-transformers) (2.1.3)\n",
      "Requirement already satisfied: charset-normalizer<4,>=2 in c:\\users\\pablofabianfaundezga\\appdata\\roaming\\python\\python311\\site-packages (from requests->huggingface-hub>=0.4.0->sentence-transformers) (3.3.2)\n",
      "Requirement already satisfied: idna<4,>=2.5 in c:\\users\\pablofabianfaundezga\\appdata\\roaming\\python\\python311\\site-packages (from requests->huggingface-hub>=0.4.0->sentence-transformers) (3.4)\n",
      "Requirement already satisfied: urllib3<3,>=1.21.1 in c:\\users\\pablofabianfaundezga\\appdata\\roaming\\python\\python311\\site-packages (from requests->huggingface-hub>=0.4.0->sentence-transformers) (2.0.7)\n",
      "Requirement already satisfied: certifi>=2017.4.17 in c:\\users\\pablofabianfaundezga\\appdata\\roaming\\python\\python311\\site-packages (from requests->huggingface-hub>=0.4.0->sentence-transformers) (2023.7.22)\n",
      "Requirement already satisfied: mpmath>=0.19 in c:\\users\\pablofabianfaundezga\\appdata\\roaming\\python\\python311\\site-packages (from sympy->torch>=1.6.0->sentence-transformers) (1.3.0)\n",
      "Building wheels for collected packages: sentence-transformers\n",
      "  Building wheel for sentence-transformers (setup.py): started\n",
      "  Building wheel for sentence-transformers (setup.py): finished with status 'done'\n",
      "  Created wheel for sentence-transformers: filename=sentence_transformers-2.2.2-py3-none-any.whl size=125953 sha256=830503a1374236d0746bf41f53f1dd8147203fbca0a2b5570b4fbb3f7dd13d3b\n",
      "  Stored in directory: c:\\users\\pablofabianfaundezga\\appdata\\local\\pip\\cache\\wheels\\ff\\27\\bf\\ffba8b318b02d7f691a57084ee154e26ed24d012b0c7805881\n",
      "Successfully built sentence-transformers\n",
      "Installing collected packages: sentencepiece, sentence-transformers\n",
      "Successfully installed sentence-transformers-2.2.2 sentencepiece-0.1.99\n",
      "Note: you may need to restart the kernel to use updated packages.\n"
     ]
    }
   ],
   "source": [
    "pip install -U sentence-transformers"
   ]
  },
  {
   "cell_type": "code",
   "execution_count": 22,
   "metadata": {},
   "outputs": [
    {
     "name": "stdout",
     "output_type": "stream",
     "text": [
      "Accuracy: 0.3713\n",
      "Classification Report:\n",
      "              precision    recall  f1-score   support\n",
      "\n",
      "           0       0.37      0.65      0.47      1430\n",
      "           1       0.35      0.19      0.25      1430\n",
      "           2       0.40      0.27      0.32      1430\n",
      "\n",
      "    accuracy                           0.37      4290\n",
      "   macro avg       0.37      0.37      0.35      4290\n",
      "weighted avg       0.37      0.37      0.35      4290\n",
      "\n"
     ]
    }
   ],
   "source": [
    "import pandas as pd\n",
    "from sentence_transformers import SentenceTransformer\n",
    "from sklearn.metrics import classification_report, accuracy_score\n",
    "from sklearn.model_selection import train_test_split\n",
    "\n",
    "# Cargar el conjunto de datos\n",
    "\n",
    "test_df = twits_25k_preprocessed\n",
    "\n",
    "# Contar la cantidad de muestras por clase\n",
    "class_counts = test_df['label'].value_counts()\n",
    "# Determinar la cantidad mínima de muestras entre las clases\n",
    "min_class_count = class_counts.min()\n",
    "# Realizar downscaling para balancear las clases\n",
    "balanced_df = pd.DataFrame()\n",
    "for label in test_df['label'].unique():\n",
    "    label_subset = test_df[test_df['label'] == label].sample(min_class_count, random_state=42)\n",
    "    balanced_df = pd.concat([balanced_df, label_subset])\n",
    "\n",
    "# Mezclar el dataframe resultante\n",
    "balanced_df = balanced_df.sample(frac=1, random_state=42).reset_index(drop=True)\n",
    "\n",
    "# Guardar el nuevo conjunto de datos balanceado\n",
    "balanced_dataset_path = 'twits_25k_balanced.csv'\n",
    "balanced_df.to_csv(balanced_dataset_path, index=False)\n",
    "\n",
    "test_df = balanced_df\n",
    "\n",
    "# Representaciones vectoriales de clases\n",
    "\n",
    "class_representations = {\n",
    "    '0': \"This is an example of hate speech\",\n",
    "    '1': \"This is an example of offensive language\",\n",
    "    '2': \"This is an example that does not belong to any of the above categories.\"\n",
    "}\n",
    "# Model of text representation\n",
    "model = SentenceTransformer('distilbert-base-nli-mean-tokens')\n",
    "\n",
    "# Get repr vector for each class\n",
    "class_vectors = {label: model.encode([text])[0] for label, text in class_representations.items()}\n",
    "\n",
    "# Función para predecir la clase basada en la similitud de coseno\n",
    "def predict_class(text):\n",
    "    text_vector = model.encode([text])[0]\n",
    "    similarities = {label: np.dot(text_vector, class_vectors[label]) / (np.linalg.norm(text_vector) * np.linalg.norm(class_vectors[label])) for label in class_vectors}\n",
    "    predicted_class = max(similarities, key=similarities.get)\n",
    "    return predicted_class\n",
    "\n",
    "# Realizar predicciones en el conjunto de prueba\n",
    "test_df['predicted_class'] = test_df['tweet'].apply(predict_class)\n",
    "\n",
    "# Convertir etiquetas numéricas a cadenas\n",
    "test_df['label'] = test_df['label'].astype(str)\n",
    "test_df['predicted_class'] = test_df['predicted_class'].astype(str)\n",
    "\n",
    "# Calcular métricas de clasificación\n",
    "accuracy = accuracy_score(test_df['label'], test_df['predicted_class'])\n",
    "classification_report_str = classification_report(test_df['label'], test_df['predicted_class'])\n",
    "\n",
    "# Mostrar resultados\n",
    "print(f'Accuracy: {accuracy:.4f}')\n",
    "print('Classification Report:')\n",
    "print(classification_report_str)\n",
    "\n"
   ]
  },
  {
   "cell_type": "code",
   "execution_count": 23,
   "metadata": {},
   "outputs": [],
   "source": [
    "from sklearn.metrics import classification_report, accuracy_score, confusion_matrix, roc_curve, auc\n",
    "# Calcular la curva ROC (Variante adaptada para clasificación por similitud)\n",
    "fpr, tpr, _ = roc_curve(test_df['label'].apply(lambda x: 1 if x == '0' else 0), test_df['predicted_class'].apply(lambda x: 1 if x == '0' else 0))\n",
    "roc_auc = auc(fpr, tpr)"
   ]
  },
  {
   "cell_type": "code",
   "execution_count": 24,
   "metadata": {},
   "outputs": [
    {
     "data": {
      "image/png": "[encoded data removed]",
      "text/plain": [
       "<Figure size 800x800 with 1 Axes>"
      ]
     },
     "metadata": {},
     "output_type": "display_data"
    }
   ],
   "source": [
    "plt.figure(figsize=(8, 8))\n",
    "plt.plot(fpr, tpr, color='darkorange', lw=2, label=f'AUC = {roc_auc:.2f}')\n",
    "plt.plot([0, 1], [0, 1], color='navy', lw=2, linestyle='--')\n",
    "plt.xlabel('False Positive Rate')\n",
    "plt.ylabel('True Positive Rate')\n",
    "plt.title('ROC Curve')\n",
    "plt.legend(loc='lower right')\n",
    "plt.show()"
   ]
  },
  {
   "cell_type": "code",
   "execution_count": 19,
   "metadata": {},
   "outputs": [
    {
     "name": "stdout",
     "output_type": "stream",
     "text": [
      "[[ 79  20  28]\n",
      " [929 262 359]\n",
      " [186  65  72]]\n"
     ]
    }
   ],
   "source": [
    "conf_matrix = confusion_matrix(test_df['label'], test_df['predicted_class'])\n",
    "print(conf_matrix)"
   ]
  },
  {
   "cell_type": "code",
   "execution_count": 21,
   "metadata": {},
   "outputs": [
    {
     "name": "stderr",
     "output_type": "stream",
     "text": [
      "Some weights of RobertaForSequenceClassification were not initialized from the model checkpoint at roberta-base and are newly initialized: ['classifier.out_proj.bias', 'classifier.out_proj.weight', 'classifier.dense.weight', 'classifier.dense.bias']\n",
      "You should probably TRAIN this model on a down-stream task to be able to use it for predictions and inference.\n"
     ]
    },
    {
     "ename": "ValueError",
     "evalue": "shapes (2,) and (9,) not aligned: 2 (dim 0) != 9 (dim 0)",
     "output_type": "error",
     "traceback": [
      "\u001b[1;31m---------------------------------------------------------------------------\u001b[0m",
      "\u001b[1;31mValueError\u001b[0m                                Traceback (most recent call last)",
      "Cell \u001b[1;32mIn[21], line 43\u001b[0m\n\u001b[0;32m     39\u001b[0m     \u001b[39mreturn\u001b[39;00m predicted_class\n\u001b[0;32m     42\u001b[0m \u001b[39m# Realizar predicciones en el conjunto de prueba\u001b[39;00m\n\u001b[1;32m---> 43\u001b[0m test_df[\u001b[39m'\u001b[39m\u001b[39mpredicted_class\u001b[39m\u001b[39m'\u001b[39m] \u001b[39m=\u001b[39m test_df[\u001b[39m'\u001b[39;49m\u001b[39mtweet\u001b[39;49m\u001b[39m'\u001b[39;49m]\u001b[39m.\u001b[39;49mapply(predict_class)\n\u001b[0;32m     45\u001b[0m \u001b[39m# Convertir etiquetas numéricas a cadenas\u001b[39;00m\n\u001b[0;32m     46\u001b[0m test_df[\u001b[39m'\u001b[39m\u001b[39mlabel\u001b[39m\u001b[39m'\u001b[39m] \u001b[39m=\u001b[39m test_df[\u001b[39m'\u001b[39m\u001b[39mlabel\u001b[39m\u001b[39m'\u001b[39m]\u001b[39m.\u001b[39mastype(\u001b[39mstr\u001b[39m)\n",
      "File \u001b[1;32m~\\AppData\\Roaming\\Python\\Python311\\site-packages\\pandas\\core\\series.py:4771\u001b[0m, in \u001b[0;36mSeries.apply\u001b[1;34m(self, func, convert_dtype, args, **kwargs)\u001b[0m\n\u001b[0;32m   4661\u001b[0m \u001b[39mdef\u001b[39;00m \u001b[39mapply\u001b[39m(\n\u001b[0;32m   4662\u001b[0m     \u001b[39mself\u001b[39m,\n\u001b[0;32m   4663\u001b[0m     func: AggFuncType,\n\u001b[1;32m   (...)\u001b[0m\n\u001b[0;32m   4666\u001b[0m     \u001b[39m*\u001b[39m\u001b[39m*\u001b[39mkwargs,\n\u001b[0;32m   4667\u001b[0m ) \u001b[39m-\u001b[39m\u001b[39m>\u001b[39m DataFrame \u001b[39m|\u001b[39m Series:\n\u001b[0;32m   4668\u001b[0m     \u001b[39m\"\"\"\u001b[39;00m\n\u001b[0;32m   4669\u001b[0m \u001b[39m    Invoke function on values of Series.\u001b[39;00m\n\u001b[0;32m   4670\u001b[0m \n\u001b[1;32m   (...)\u001b[0m\n\u001b[0;32m   4769\u001b[0m \u001b[39m    dtype: float64\u001b[39;00m\n\u001b[0;32m   4770\u001b[0m \u001b[39m    \"\"\"\u001b[39;00m\n\u001b[1;32m-> 4771\u001b[0m     \u001b[39mreturn\u001b[39;00m SeriesApply(\u001b[39mself\u001b[39;49m, func, convert_dtype, args, kwargs)\u001b[39m.\u001b[39;49mapply()\n",
      "File \u001b[1;32m~\\AppData\\Roaming\\Python\\Python311\\site-packages\\pandas\\core\\apply.py:1105\u001b[0m, in \u001b[0;36mSeriesApply.apply\u001b[1;34m(self)\u001b[0m\n\u001b[0;32m   1102\u001b[0m     \u001b[39mreturn\u001b[39;00m \u001b[39mself\u001b[39m\u001b[39m.\u001b[39mapply_str()\n\u001b[0;32m   1104\u001b[0m \u001b[39m# self.f is Callable\u001b[39;00m\n\u001b[1;32m-> 1105\u001b[0m \u001b[39mreturn\u001b[39;00m \u001b[39mself\u001b[39;49m\u001b[39m.\u001b[39;49mapply_standard()\n",
      "File \u001b[1;32m~\\AppData\\Roaming\\Python\\Python311\\site-packages\\pandas\\core\\apply.py:1156\u001b[0m, in \u001b[0;36mSeriesApply.apply_standard\u001b[1;34m(self)\u001b[0m\n\u001b[0;32m   1154\u001b[0m     \u001b[39melse\u001b[39;00m:\n\u001b[0;32m   1155\u001b[0m         values \u001b[39m=\u001b[39m obj\u001b[39m.\u001b[39mastype(\u001b[39mobject\u001b[39m)\u001b[39m.\u001b[39m_values\n\u001b[1;32m-> 1156\u001b[0m         mapped \u001b[39m=\u001b[39m lib\u001b[39m.\u001b[39;49mmap_infer(\n\u001b[0;32m   1157\u001b[0m             values,\n\u001b[0;32m   1158\u001b[0m             f,\n\u001b[0;32m   1159\u001b[0m             convert\u001b[39m=\u001b[39;49m\u001b[39mself\u001b[39;49m\u001b[39m.\u001b[39;49mconvert_dtype,\n\u001b[0;32m   1160\u001b[0m         )\n\u001b[0;32m   1162\u001b[0m \u001b[39mif\u001b[39;00m \u001b[39mlen\u001b[39m(mapped) \u001b[39mand\u001b[39;00m \u001b[39misinstance\u001b[39m(mapped[\u001b[39m0\u001b[39m], ABCSeries):\n\u001b[0;32m   1163\u001b[0m     \u001b[39m# GH#43986 Need to do list(mapped) in order to get treated as nested\u001b[39;00m\n\u001b[0;32m   1164\u001b[0m     \u001b[39m#  See also GH#25959 regarding EA support\u001b[39;00m\n\u001b[0;32m   1165\u001b[0m     \u001b[39mreturn\u001b[39;00m obj\u001b[39m.\u001b[39m_constructor_expanddim(\u001b[39mlist\u001b[39m(mapped), index\u001b[39m=\u001b[39mobj\u001b[39m.\u001b[39mindex)\n",
      "File \u001b[1;32m~\\AppData\\Roaming\\Python\\Python311\\site-packages\\pandas\\_libs\\lib.pyx:2918\u001b[0m, in \u001b[0;36mpandas._libs.lib.map_infer\u001b[1;34m()\u001b[0m\n",
      "Cell \u001b[1;32mIn[21], line 37\u001b[0m, in \u001b[0;36mpredict_class\u001b[1;34m(text)\u001b[0m\n\u001b[0;32m     35\u001b[0m \u001b[39mwith\u001b[39;00m torch\u001b[39m.\u001b[39mno_grad():\n\u001b[0;32m     36\u001b[0m     logits \u001b[39m=\u001b[39m model(input_ids)[\u001b[39m'\u001b[39m\u001b[39mlogits\u001b[39m\u001b[39m'\u001b[39m]\n\u001b[1;32m---> 37\u001b[0m similarities \u001b[39m=\u001b[39m {label: np\u001b[39m.\u001b[39;49mdot(logits\u001b[39m.\u001b[39;49mflatten()\u001b[39m.\u001b[39;49mnumpy(), class_vectors[label]\u001b[39m.\u001b[39;49mflatten()\u001b[39m.\u001b[39;49mnumpy()) \u001b[39m/\u001b[39;49m (np\u001b[39m.\u001b[39;49mlinalg\u001b[39m.\u001b[39;49mnorm(logits) \u001b[39m*\u001b[39;49m np\u001b[39m.\u001b[39;49mlinalg\u001b[39m.\u001b[39;49mnorm(class_vectors[label])) \u001b[39mfor\u001b[39;49;00m label \u001b[39min\u001b[39;49;00m class_vectors}\n\u001b[0;32m     38\u001b[0m predicted_class \u001b[39m=\u001b[39m \u001b[39mmax\u001b[39m(similarities, key\u001b[39m=\u001b[39msimilarities\u001b[39m.\u001b[39mget)\n\u001b[0;32m     39\u001b[0m \u001b[39mreturn\u001b[39;00m predicted_class\n",
      "Cell \u001b[1;32mIn[21], line 37\u001b[0m, in \u001b[0;36m<dictcomp>\u001b[1;34m(.0)\u001b[0m\n\u001b[0;32m     35\u001b[0m \u001b[39mwith\u001b[39;00m torch\u001b[39m.\u001b[39mno_grad():\n\u001b[0;32m     36\u001b[0m     logits \u001b[39m=\u001b[39m model(input_ids)[\u001b[39m'\u001b[39m\u001b[39mlogits\u001b[39m\u001b[39m'\u001b[39m]\n\u001b[1;32m---> 37\u001b[0m similarities \u001b[39m=\u001b[39m {label: np\u001b[39m.\u001b[39;49mdot(logits\u001b[39m.\u001b[39;49mflatten()\u001b[39m.\u001b[39;49mnumpy(), class_vectors[label]\u001b[39m.\u001b[39;49mflatten()\u001b[39m.\u001b[39;49mnumpy()) \u001b[39m/\u001b[39m (np\u001b[39m.\u001b[39mlinalg\u001b[39m.\u001b[39mnorm(logits) \u001b[39m*\u001b[39m np\u001b[39m.\u001b[39mlinalg\u001b[39m.\u001b[39mnorm(class_vectors[label])) \u001b[39mfor\u001b[39;00m label \u001b[39min\u001b[39;00m class_vectors}\n\u001b[0;32m     38\u001b[0m predicted_class \u001b[39m=\u001b[39m \u001b[39mmax\u001b[39m(similarities, key\u001b[39m=\u001b[39msimilarities\u001b[39m.\u001b[39mget)\n\u001b[0;32m     39\u001b[0m \u001b[39mreturn\u001b[39;00m predicted_class\n",
      "File \u001b[1;32m<__array_function__ internals>:180\u001b[0m, in \u001b[0;36mdot\u001b[1;34m(*args, **kwargs)\u001b[0m\n",
      "\u001b[1;31mValueError\u001b[0m: shapes (2,) and (9,) not aligned: 2 (dim 0) != 9 (dim 0)"
     ]
    }
   ],
   "source": [
    "import pandas as pd\n",
    "from transformers import RobertaTokenizer, RobertaForSequenceClassification\n",
    "from sklearn.metrics import classification_report, accuracy_score, confusion_matrix, roc_curve, auc\n",
    "import matplotlib.pyplot as plt\n",
    "import seaborn as sns\n",
    "import numpy as np\n",
    "from sklearn.model_selection import train_test_split\n",
    "\n",
    "# Cargar el conjunto de datos\n",
    "\n",
    "test_df = random_subset_25k\n",
    "\n",
    "# Separar datos de entrenamiento y prueba\n",
    "#train_df, test_df = train_test_split(df, test_size=0.2, random_state=42)\n",
    "\n",
    "\n",
    "# Representaciones vectoriales de clases\n",
    "class_representations = {\n",
    "    '0': \"This is an example of hate speech\",\n",
    "    '1': \"This is an example of offensive language\",\n",
    "    '2': \"This is an example that does not belong to any of the above categories.\"\n",
    "}\n",
    "\n",
    "# Modelo de representación de texto RoBERTa\n",
    "model_name = 'roberta-base'\n",
    "tokenizer = RobertaTokenizer.from_pretrained(model_name)\n",
    "model = RobertaForSequenceClassification.from_pretrained(model_name)\n",
    "\n",
    "# Obtener representaciones vectoriales para cada clase\n",
    "class_vectors = {label: tokenizer(text, return_tensors='pt')['input_ids'] for label, text in class_representations.items()}\n",
    "\n",
    "# Función para predecir la clase basada en la similitud de coseno\n",
    "def predict_class(text):\n",
    "    input_ids = tokenizer(text, return_tensors='pt')['input_ids']\n",
    "    with torch.no_grad():\n",
    "        logits = model(input_ids)['logits']\n",
    "    similarities = {label: np.dot(logits.flatten().numpy(), class_vectors[label].flatten().numpy()) / (np.linalg.norm(logits) * np.linalg.norm(class_vectors[label])) for label in class_vectors}\n",
    "    predicted_class = max(similarities, key=similarities.get)\n",
    "    return predicted_class\n",
    "\n",
    "\n",
    "# Realizar predicciones en el conjunto de prueba\n",
    "test_df['predicted_class'] = test_df['tweet'].apply(predict_class)\n",
    "\n",
    "# Convertir etiquetas numéricas a cadenas\n",
    "test_df['label'] = test_df['label'].astype(str)\n",
    "test_df['predicted_class'] = test_df['predicted_class'].astype(str)\n",
    "\n",
    "# Calcular métricas de clasificación\n",
    "accuracy = accuracy_score(test_df['label'], test_df['predicted_class'])\n",
    "classification_report_str = classification_report(test_df['label'], test_df['predicted_class'])\n",
    "\n",
    "# Mostrar resultados\n",
    "print(f'Accuracy: {accuracy:.4f}')\n",
    "print('Classification Report:')\n",
    "print(classification_report_str)\n"
   ]
  },
  {
   "cell_type": "code",
   "execution_count": 12,
   "metadata": {},
   "outputs": [],
   "source": [
    "random_subset_25k['roberta'] = all_predictions_roberta"
   ]
  },
  {
   "cell_type": "code",
   "execution_count": 13,
   "metadata": {},
   "outputs": [
    {
     "data": {
      "text/html": [
       "<div>\n",
       "<style scoped>\n",
       "    .dataframe tbody tr th:only-of-type {\n",
       "        vertical-align: middle;\n",
       "    }\n",
       "\n",
       "    .dataframe tbody tr th {\n",
       "        vertical-align: top;\n",
       "    }\n",
       "\n",
       "    .dataframe thead th {\n",
       "        text-align: right;\n",
       "    }\n",
       "</style>\n",
       "<table border=\"1\" class=\"dataframe\">\n",
       "  <thead>\n",
       "    <tr style=\"text-align: right;\">\n",
       "      <th></th>\n",
       "      <th>id</th>\n",
       "      <th>label</th>\n",
       "      <th>tweet</th>\n",
       "      <th>roberta</th>\n",
       "    </tr>\n",
       "  </thead>\n",
       "  <tbody>\n",
       "    <tr>\n",
       "      <th>2281</th>\n",
       "      <td>2326</td>\n",
       "      <td>1</td>\n",
       "      <td>934 8616\\ni got a missed call from to bitch</td>\n",
       "      <td>1</td>\n",
       "    </tr>\n",
       "    <tr>\n",
       "      <th>15914</th>\n",
       "      <td>16283</td>\n",
       "      <td>1</td>\n",
       "      <td>it  fucking with a bad bitch you gone need som...</td>\n",
       "      <td>1</td>\n",
       "    </tr>\n",
       "    <tr>\n",
       "      <th>18943</th>\n",
       "      <td>19362</td>\n",
       "      <td>2</td>\n",
       "      <td>it   ll my credit ain't no where near good , b...</td>\n",
       "      <td>1</td>\n",
       "    </tr>\n",
       "    <tr>\n",
       "      <th>16407</th>\n",
       "      <td>16780</td>\n",
       "      <td>1</td>\n",
       "      <td>it  wipe the cum out of them maggot it  contac...</td>\n",
       "      <td>1</td>\n",
       "    </tr>\n",
       "    <tr>\n",
       "      <th>13326</th>\n",
       "      <td>13654</td>\n",
       "      <td>1</td>\n",
       "      <td>nights cheat on they bitch and don't expect no...</td>\n",
       "      <td>1</td>\n",
       "    </tr>\n",
       "    <tr>\n",
       "      <th>...</th>\n",
       "      <td>...</td>\n",
       "      <td>...</td>\n",
       "      <td>...</td>\n",
       "      <td>...</td>\n",
       "    </tr>\n",
       "    <tr>\n",
       "      <th>17738</th>\n",
       "      <td>18139</td>\n",
       "      <td>1</td>\n",
       "      <td>it  if you got to have every he you see you a ...</td>\n",
       "      <td>1</td>\n",
       "    </tr>\n",
       "    <tr>\n",
       "      <th>3015</th>\n",
       "      <td>3091</td>\n",
       "      <td>1</td>\n",
       "      <td>birches be like.. \"it means something to me\"</td>\n",
       "      <td>1</td>\n",
       "    </tr>\n",
       "    <tr>\n",
       "      <th>18597</th>\n",
       "      <td>19008</td>\n",
       "      <td>1</td>\n",
       "      <td>it  contrary to belief, us queer don&amp;8217;t go...</td>\n",
       "      <td>1</td>\n",
       "    </tr>\n",
       "    <tr>\n",
       "      <th>17962</th>\n",
       "      <td>18365</td>\n",
       "      <td>1</td>\n",
       "      <td>it  mac 10 lay on the floor like a mattress \" ...</td>\n",
       "      <td>1</td>\n",
       "    </tr>\n",
       "    <tr>\n",
       "      <th>2988</th>\n",
       "      <td>3061</td>\n",
       "      <td>1</td>\n",
       "      <td>i just can stand how people get all fucking c...</td>\n",
       "      <td>1</td>\n",
       "    </tr>\n",
       "  </tbody>\n",
       "</table>\n",
       "<p>5000 rows × 4 columns</p>\n",
       "</div>"
      ],
      "text/plain": [
       "          id  label                                              tweet  \\\n",
       "2281    2326      1        934 8616\\ni got a missed call from to bitch   \n",
       "15914  16283      1  it  fucking with a bad bitch you gone need som...   \n",
       "18943  19362      2  it   ll my credit ain't no where near good , b...   \n",
       "16407  16780      1  it  wipe the cum out of them maggot it  contac...   \n",
       "13326  13654      1  nights cheat on they bitch and don't expect no...   \n",
       "...      ...    ...                                                ...   \n",
       "17738  18139      1  it  if you got to have every he you see you a ...   \n",
       "3015    3091      1       birches be like.. \"it means something to me\"   \n",
       "18597  19008      1  it  contrary to belief, us queer don&8217;t go...   \n",
       "17962  18365      1  it  mac 10 lay on the floor like a mattress \" ...   \n",
       "2988    3061      1   i just can stand how people get all fucking c...   \n",
       "\n",
       "       roberta  \n",
       "2281         1  \n",
       "15914        1  \n",
       "18943        1  \n",
       "16407        1  \n",
       "13326        1  \n",
       "...        ...  \n",
       "17738        1  \n",
       "3015         1  \n",
       "18597        1  \n",
       "17962        1  \n",
       "2988         1  \n",
       "\n",
       "[5000 rows x 4 columns]"
      ]
     },
     "execution_count": 13,
     "metadata": {},
     "output_type": "execute_result"
    }
   ],
   "source": [
    "random_subset_25k"
   ]
  },
  {
   "cell_type": "code",
   "execution_count": null,
   "metadata": {},
   "outputs": [],
   "source": [
    "# Agregar las predicciones al DataFrame\n",
    "twits_25k_preprocessed['predicted_label'] = predictions\n"
   ]
  },
  {
   "cell_type": "code",
   "execution_count": null,
   "metadata": {},
   "outputs": [],
   "source": [
    "from sklearn.metrics import accuracy_score, classification_report\n",
    "\n",
    "# Obtener las etiquetas reales del conjunto de datos\n",
    "true_labels = twits_25k_preprocessed['label'].values\n",
    "\n",
    "# Calcular la precisión\n",
    "accuracy = accuracy_score(true_labels, predictions)\n",
    "print(f'Accuracy on Dataset: {accuracy:.4f}')\n",
    "\n",
    "# Mostrar un informe de clasificación\n",
    "print('Classification Report:')\n",
    "print(classification_report(true_labels, predictions))"
   ]
  },
  {
   "cell_type": "code",
   "execution_count": 25,
   "metadata": {},
   "outputs": [
    {
     "name": "stdout",
     "output_type": "stream",
     "text": [
      "['25k_dataset.csv', 'app.py', 'bayesnaiveclass.ipynb', 'hatespeech_train.csv', 'index.html', 'modelling.ipynb', 'naive_bayes_model.pkl', 'notebook1c20a1fb3f.ipynb', 'one_vs_rest_classifier.pkl', 'palestine_hatespeech.ipynb', 'prepared_hatespeech_train.csv', 'result.html', 'test_dataset.csv', 'train_dataset.csv', 'twits_25k_balanced.csv', 'twits_25k_preprocessed.csv', 'vectorizer.pkl']\n"
     ]
    }
   ],
   "source": [
    "import os\n",
    "\n",
    "# Ruta de la carpeta\n",
    "folder_path = r'C:\\Users\\PabloFabianFaundezGa\\Desktop\\Hate Speech'\n",
    "\n",
    "# Lista para almacenar los nombres de los archivos\n",
    "file_names = []\n",
    "\n",
    "# Recorrer los archivos en la carpeta\n",
    "for file in os.listdir(folder_path):\n",
    "    # Añadir el nombre del archivo a la lista\n",
    "    file_names.append(file)\n",
    "\n",
    "# Imprimir la lista de nombres de archivos\n",
    "print(file_names)\n"
   ]
  },
  {
   "cell_type": "code",
   "execution_count": null,
   "metadata": {},
   "outputs": [],
   "source": []
  }
 ],
 "metadata": {
  "kernelspec": {
   "display_name": "Python 3.11.0 64-bit",
   "language": "python",
   "name": "python3"
  },
  "language_info": {
   "codemirror_mode": {
    "name": "ipython",
    "version": 3
   },
   "file_extension": ".py",
   "mimetype": "text/x-python",
   "name": "python",
   "nbconvert_exporter": "python",
   "pygments_lexer": "ipython3",
   "version": "3.11.0"
  },
  "orig_nbformat": 4,
  "vscode": {
   "interpreter": {
    "hash": "5238573367df39f7286bb46f9ff5f08f63a01a80960060ce41e3c79b190280fa"
   }
  }
 },
 "nbformat": 4,
 "nbformat_minor": 2
}
